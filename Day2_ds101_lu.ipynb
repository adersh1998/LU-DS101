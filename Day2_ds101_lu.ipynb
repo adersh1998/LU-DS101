{
 "cells": [
  {
   "cell_type": "markdown",
   "metadata": {},
   "source": [
    "# Day 2"
   ]
  },
  {
   "cell_type": "code",
   "execution_count": 2,
   "metadata": {},
   "outputs": [
    {
     "name": "stdout",
     "output_type": "stream",
     "text": [
      "12\n",
      "23\n",
      "32\n",
      "21\n",
      "45\n",
      "54\n",
      "56\n",
      "65\n",
      "67\n",
      "87\n",
      "[12, 32, 54, 56]\n"
     ]
    }
   ],
   "source": [
    "#Question 1\n",
    "l=[]\n",
    "for i in range(10):\n",
    "    no = int(input())\n",
    "    if no%2==0:\n",
    "        l.append(no)\n",
    "print(l)        \n"
   ]
  },
  {
   "cell_type": "markdown",
   "metadata": {},
   "source": [
    "#Question 2<br>\n",
    "Python has an easier way to solve this issue using List Comprehension. <br>\n",
    "List comprehension is an elegant way to define and create lists based on existing lists."
   ]
  },
  {
   "cell_type": "markdown",
   "metadata": {},
   "source": [
    "Syntax of List Comprehension\n",
    "<BR>\n",
    "[expression for item in list]"
   ]
  },
  {
   "cell_type": "code",
   "execution_count": 3,
   "metadata": {},
   "outputs": [],
   "source": [
    " # Iterating through a string Using List Comprehension"
   ]
  },
  {
   "cell_type": "code",
   "execution_count": 4,
   "metadata": {},
   "outputs": [
    {
     "name": "stdout",
     "output_type": "stream",
     "text": [
      "['h', 'u', 'm', 'a', 'n']\n"
     ]
    }
   ],
   "source": [
    "h_letters = [ letter for letter in 'human' ]\n",
    "print( h_letters)"
   ]
  },
  {
   "cell_type": "code",
   "execution_count": 8,
   "metadata": {},
   "outputs": [
    {
     "name": "stdout",
     "output_type": "stream",
     "text": [
      "5\n",
      "{1: 1, 2: 4, 3: 9, 4: 16, 5: 25}\n"
     ]
    }
   ],
   "source": [
    "#Question 3\n",
    "num=int(input())\n",
    "dic={}\n",
    "for x in range(1,num+1):\n",
    "    dic.update({x:x*x})\n",
    "print(dic)    "
   ]
  },
  {
   "cell_type": "code",
   "execution_count": null,
   "metadata": {},
   "outputs": [],
   "source": [
    "#Question 4\n",
    "import math\n",
    "num=int(input())\n",
    "x=y=0\n",
    "for i in range(num):\n",
    "    direc,step=input().split()\n",
    "    step=int(step)\n",
    "    if direc == \"UP\":\n",
    "        y+=step\n",
    "    elif direc == \"DOWN\":\n",
    "        y-=step \n",
    "    elif direc == \"RIGHT\":\n",
    "        x+=step\n",
    "    elif direc == \"LEFT\":\n",
    "        x-=step\n",
    "cp=round(math.sqrt((x*x)+(y*y)))\n",
    "print(cp)"
   ]
  }
 ],
 "metadata": {
  "kernelspec": {
   "display_name": "Python 3",
   "language": "python",
   "name": "python3"
  },
  "language_info": {
   "codemirror_mode": {
    "name": "ipython",
    "version": 3
   },
   "file_extension": ".py",
   "mimetype": "text/x-python",
   "name": "python",
   "nbconvert_exporter": "python",
   "pygments_lexer": "ipython3",
   "version": "3.8.3"
  }
 },
 "nbformat": 4,
 "nbformat_minor": 4
}
